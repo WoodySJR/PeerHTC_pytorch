{
 "cells": [
  {
   "cell_type": "code",
   "execution_count": null,
   "id": "2bc24844-2109-4623-b577-3cf7b280db43",
   "metadata": {
    "tags": []
   },
   "outputs": [],
   "source": [
    "import torch, pandas as pd, numpy as np, math\n",
    "from torch import nn\n",
    "from torch.utils.data import DataLoader\n",
    "from Dataset import MyDataset\n",
    "import warnings\n",
    "warnings.filterwarnings(\"ignore\")\n",
    "from train import train\n",
    "from PeerHTC import PeerHTC\n",
    "from tqdm import tqdm"
   ]
  },
  {
   "cell_type": "code",
   "execution_count": null,
   "id": "46b37019-8033-4dd4-9cd9-102cddd09704",
   "metadata": {},
   "outputs": [],
   "source": [
    "mask = torch.load(\"BGC/bgc_mask.pt\")\n",
    "fre12 = torch.load(\"BGC/bgc_fre12.pt\")\n",
    "fre23 = torch.load(\"BGC/bgc_fre23.pt\")"
   ]
  },
  {
   "cell_type": "code",
   "execution_count": null,
   "id": "6eb7235c-16cf-4bc4-a520-c593a32e1612",
   "metadata": {},
   "outputs": [],
   "source": [
    "# for second round of training\n",
    "# Ad = np.load(\"BGC/adjacent_matrix.npy\")\n",
    "# weight = np.load(\"BGC/sample_weight.npy\")"
   ]
  },
  {
   "cell_type": "code",
   "execution_count": null,
   "id": "bba386b8-37ff-4cb6-9b6a-ca327292a5dd",
   "metadata": {
    "tags": []
   },
   "outputs": [],
   "source": [
    "device = \"cuda:0\"\n",
    "torch.cuda.manual_seed(1234)\n",
    "torch.manual_seed(1234)\n",
    "\n",
    "model = PeerHTC(hidden_dim=128, num_labels=130, num_1=7, num_2=46, num_3=77,\n",
    "              mask=mask, fre12=fre12, fre23=fre23)\n",
    "\n",
    "# model.A = nn.Parameter(torch.tensor(Ad, requires_grad=True).float()) # second round\n",
    "\n",
    "model = model.to(device)"
   ]
  },
  {
   "cell_type": "code",
   "execution_count": null,
   "id": "f9d25fb5-ab9f-4f36-8812-0ca100b14fc5",
   "metadata": {
    "tags": []
   },
   "outputs": [],
   "source": [
    "train_data = MyDataset(\"BGC/bgc_train_x_10016.pt\", \"BGC/bgc_train_y_10016.pt\", device=device)\n",
    "# train_data = MyDataset(\"BGC/bgc_train_x_10016.pt\", \"BGC/bgc_train_labels&weights_10016.pt\", device=device) # second round\n",
    "train_dataloader = DataLoader(train_data, batch_size=32, shuffle=True)\n",
    "\n",
    "val_data = MyDataset(\"BGC/bgc_val_x.pt\", \"BGC/bgc_val_y_3.pt\", device=device)\n",
    "val_dataloader = DataLoader(val_data, batch_size=32, shuffle=False)"
   ]
  },
  {
   "cell_type": "code",
   "execution_count": null,
   "id": "05c3a966-f4f4-40cf-aff5-41c5eeeb5e36",
   "metadata": {
    "tags": []
   },
   "outputs": [],
   "source": [
    "train(model, train_dataloader, val_dataloader, 50, 0.0001, 10, \"params\", 0.5)"
   ]
  },
  {
   "cell_type": "code",
   "execution_count": null,
   "id": "5915a638-e180-455a-9f1a-416714977672",
   "metadata": {},
   "outputs": [],
   "source": [
    "torch.save(model, \"modelparams.pt\")"
   ]
  },
  {
   "cell_type": "code",
   "execution_count": null,
   "id": "ddc6611e-eb68-4b49-9c92-b4b3e757875d",
   "metadata": {},
   "outputs": [],
   "source": []
  },
  {
   "cell_type": "code",
   "execution_count": null,
   "id": "c79eab3a-e248-4278-bc5b-8a377394185c",
   "metadata": {},
   "outputs": [],
   "source": [
    "# save probabilities\n",
    "train_dataloader_2 = DataLoader(train_data, batch_size=32, shuffle=False)\n",
    "flag = True\n",
    "with torch.no_grad(): \n",
    "    for inputs, labels in tqdm(train_dataloader_2):\n",
    "        prob = model(inputs)\n",
    "        if flag:\n",
    "            probs = prob\n",
    "            flag = False\n",
    "        else:\n",
    "            probs = torch.cat((probs, prob), dim=0)\n",
    "            \n",
    "np.save(\"BGC/train_prob.npy\", np.array(probs.cpu()))"
   ]
  },
  {
   "cell_type": "code",
   "execution_count": null,
   "id": "acd5ca35-c738-4053-8f7d-58593884f386",
   "metadata": {},
   "outputs": [],
   "source": []
  },
  {
   "cell_type": "code",
   "execution_count": null,
   "id": "1f89ca1e-fc05-49ed-a2e1-fc09488eeddd",
   "metadata": {},
   "outputs": [],
   "source": []
  }
 ],
 "metadata": {
  "kernelspec": {
   "display_name": "myconda",
   "language": "python",
   "name": "myconda"
  },
  "language_info": {
   "codemirror_mode": {
    "name": "ipython",
    "version": 3
   },
   "file_extension": ".py",
   "mimetype": "text/x-python",
   "name": "python",
   "nbconvert_exporter": "python",
   "pygments_lexer": "ipython3",
   "version": "3.8.12"
  }
 },
 "nbformat": 4,
 "nbformat_minor": 5
}
