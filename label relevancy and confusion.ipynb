{
 "cells": [
  {
   "cell_type": "code",
   "execution_count": null,
   "id": "596948d3",
   "metadata": {},
   "outputs": [],
   "source": [
    "# label relevancy"
   ]
  },
  {
   "cell_type": "code",
   "execution_count": 6,
   "id": "83ef1394",
   "metadata": {},
   "outputs": [],
   "source": [
    "import numpy as np\n",
    "from scipy.stats import spearmanr\n",
    "import torch"
   ]
  },
  {
   "cell_type": "code",
   "execution_count": 2,
   "id": "2e86cefa",
   "metadata": {},
   "outputs": [],
   "source": [
    "# cosine similarity\n",
    "def cosine(a,b):\n",
    "    return np.dot(a,b)/(np.linalg.norm(a)*np.linalg.norm(b))"
   ]
  },
  {
   "cell_type": "code",
   "execution_count": 22,
   "id": "53449ad1",
   "metadata": {},
   "outputs": [],
   "source": [
    "# load-in your training probabilities (alternatively, test probabilities or label embeddings)\n",
    "prob = np.load('BGC/train_prob.npy')"
   ]
  },
  {
   "cell_type": "code",
   "execution_count": 23,
   "id": "2e66b287",
   "metadata": {},
   "outputs": [],
   "source": [
    "# initialize\n",
    "K = prob.shape[1]\n",
    "result_re = np.zeros((K,K))"
   ]
  },
  {
   "cell_type": "code",
   "execution_count": 24,
   "id": "2de89c82",
   "metadata": {},
   "outputs": [],
   "source": [
    "# calculate label relevancy (whole-hierarchy)\n",
    "for i in range(K):\n",
    "    for j in range(K):\n",
    "        if i<j:\n",
    "            # if probabilities are used\n",
    "            result_re[i,j] = result_re[j,i] = spearmanr(prob[:,i],prob[:,j])[0]\n",
    "            \n",
    "            # if embeddings are used\n",
    "            # result_re[i,j] = result_re[j,i] = cosine(prob[:,i],prob[:,j])"
   ]
  },
  {
   "cell_type": "code",
   "execution_count": 25,
   "id": "d41c6b99",
   "metadata": {},
   "outputs": [],
   "source": [
    "# normalize\n",
    "result_re = np.abs(result_re)\n",
    "result_re = result_re/np.sum(result_re,axis=1,keepdims=True)\n",
    "result_re += np.eye(K)"
   ]
  },
  {
   "cell_type": "code",
   "execution_count": 26,
   "id": "43dbb887",
   "metadata": {},
   "outputs": [],
   "source": [
    "np.save(\"BGC/adjacent_matrix.npy\", result_re)"
   ]
  },
  {
   "cell_type": "code",
   "execution_count": null,
   "id": "da8f8a8c-e459-4ceb-be41-aff39ff77718",
   "metadata": {},
   "outputs": [],
   "source": []
  },
  {
   "cell_type": "code",
   "execution_count": null,
   "id": "8027d86d",
   "metadata": {},
   "outputs": [],
   "source": [
    "# label confusion and sample importance learning"
   ]
  },
  {
   "cell_type": "code",
   "execution_count": 50,
   "id": "1c8fdfef",
   "metadata": {},
   "outputs": [],
   "source": [
    "result_co = np.zeros((K,K))"
   ]
  },
  {
   "cell_type": "code",
   "execution_count": 34,
   "id": "0e16b0c4",
   "metadata": {},
   "outputs": [],
   "source": [
    "# load in training set probabilities and true labels\n",
    "prob = np.load('BGC/train_prob.npy') \n",
    "labels = torch.load(\"BGC/bgc_val_y_3.pt\")[0:prob.shape[0],:]"
   ]
  },
  {
   "cell_type": "code",
   "execution_count": 56,
   "id": "5472d118",
   "metadata": {},
   "outputs": [],
   "source": [
    "# calculate label confusion\n",
    "for i in range(K):\n",
    "    for j in range(K):\n",
    "        index = np.array(labels[:,i]*(1-labels[:,j]), dtype='bool')\n",
    "        if np.sum(index) != 0: \n",
    "            result_co[i,j] = np.sum(prob[index,j])/np.sum(index)\n",
    "        else:\n",
    "            pass"
   ]
  },
  {
   "cell_type": "code",
   "execution_count": 78,
   "id": "9bc1e0fc-507b-497f-addf-86b7ec945b07",
   "metadata": {},
   "outputs": [],
   "source": [
    "result_co[result_co<0.1] = 0"
   ]
  },
  {
   "cell_type": "code",
   "execution_count": 79,
   "id": "2a4f0e4b",
   "metadata": {},
   "outputs": [],
   "source": [
    "# assign sample weights\n",
    "n = len(labels)\n",
    "tau = 1 # temperature parameter\n",
    "weights = np.zeros((n,K))\n",
    "for i in range(n):\n",
    "    for j in range(K):\n",
    "        if labels[i,j]==0:\n",
    "            weights[i,j]=1\n",
    "        else:\n",
    "            index = np.array(1-labels[i,:], dtype='bool')\n",
    "            temp = np.sum(np.exp(tau * result_co[j,index])-1)\n",
    "            weights[i,j] = 1+temp"
   ]
  },
  {
   "cell_type": "code",
   "execution_count": 84,
   "id": "d2a13fe9-b1ec-479a-8e7a-bad5241811f2",
   "metadata": {},
   "outputs": [],
   "source": [
    "np.save(\"BGC/sample_weight.npy\", weights)"
   ]
  },
  {
   "cell_type": "code",
   "execution_count": 92,
   "id": "0322862d-1033-4bc0-ab29-30952f912fc7",
   "metadata": {},
   "outputs": [],
   "source": [
    "torch.save(torch.cat((labels, torch.tensor(weights)), dim=1), \n",
    "          \"BGC/bgc_train_labels&weights_10016.pt\")"
   ]
  },
  {
   "cell_type": "code",
   "execution_count": null,
   "id": "e99acc6a-4304-4c4e-8d22-38ba5d04a563",
   "metadata": {},
   "outputs": [],
   "source": []
  }
 ],
 "metadata": {
  "kernelspec": {
   "display_name": "myconda",
   "language": "python",
   "name": "myconda"
  },
  "language_info": {
   "codemirror_mode": {
    "name": "ipython",
    "version": 3
   },
   "file_extension": ".py",
   "mimetype": "text/x-python",
   "name": "python",
   "nbconvert_exporter": "python",
   "pygments_lexer": "ipython3",
   "version": "3.8.12"
  }
 },
 "nbformat": 4,
 "nbformat_minor": 5
}
