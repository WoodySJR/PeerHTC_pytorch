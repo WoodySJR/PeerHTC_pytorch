{
 "cells": [
  {
   "cell_type": "code",
   "execution_count": null,
   "id": "15296d53-fdc8-471a-b79f-fce6380c564c",
   "metadata": {},
   "outputs": [],
   "source": [
    "import pandas as pd\n",
    "from tqdm import tqdm\n",
    "import re\n",
    "import torch\n",
    "import numpy as np\n",
    "from pytorch_pretrained_bert import BertTokenizer"
   ]
  },
  {
   "cell_type": "code",
   "execution_count": null,
   "id": "5a9a72f8-50a8-4331-bb5b-70cafaacb3f8",
   "metadata": {},
   "outputs": [],
   "source": [
    "path = \"BlurbGenreCollection_EN_train.txt\"\n",
    "with open(path, 'r') as f:\n",
    "    lines = f.readlines()"
   ]
  },
  {
   "cell_type": "code",
   "execution_count": null,
   "id": "dbe2f5af-a208-43a2-bb82-873dc1bfcc8c",
   "metadata": {},
   "outputs": [],
   "source": [
    "r1 = r'<title>(.*?)</title>\\n'\n",
    "r2 = r'<body>(.*?)</body>\\n'\n",
    "r31 = r'<d0>(.*?)</d0>'\n",
    "r32 = r'<d1>(.*?)</d1>'\n",
    "r33 = r'<d2>(.*?)</d2>'\n",
    "r34 = r'<d3>(.*?)</d3>'"
   ]
  },
  {
   "cell_type": "code",
   "execution_count": null,
   "id": "914913cd-c95b-4d63-9c7b-03ac1f9f3933",
   "metadata": {},
   "outputs": [],
   "source": [
    "data = pd.DataFrame()\n",
    "data['title'] = ['']*len(lines)\n",
    "data['abstract'] = None\n",
    "data['genre1'] = None\n",
    "data['genre2'] = None\n",
    "data['genre3'] = None\n",
    "data['genre4'] = None"
   ]
  },
  {
   "cell_type": "code",
   "execution_count": null,
   "id": "8c2812f7-767c-4545-b299-0c99c4a5b077",
   "metadata": {},
   "outputs": [],
   "source": [
    "index = 0\n",
    "for i in tqdm(range(len(lines))):\n",
    "    \n",
    "    if lines[i][1:6]=='title':\n",
    "        title = re.findall(r1,lines[i])\n",
    "        data['title'][index] = title[0]\n",
    "    if lines[i][1:5]=='body':\n",
    "        body = re.findall(r2,lines[i])\n",
    "        data['abstract'][index] = body[0]\n",
    "    if lines[i]=='<topics>\\n':\n",
    "        genres = lines[i+1]\n",
    "        genre1 = re.findall(r31,genres)\n",
    "        genre2 = re.findall(r32,genres)\n",
    "        genre3 = re.findall(r33,genres)\n",
    "        genre4 = re.findall(r34,genres)\n",
    "        data['genre1'][index] = genre1\n",
    "        data['genre2'][index] = genre2\n",
    "        data['genre3'][index] = genre3\n",
    "        data['genre4'][index] = genre4\n",
    "        index += 1"
   ]
  },
  {
   "cell_type": "code",
   "execution_count": null,
   "id": "8abbd625-bf45-42ef-81c1-e49f0c179185",
   "metadata": {},
   "outputs": [],
   "source": [
    "data = data[0:index]"
   ]
  },
  {
   "cell_type": "code",
   "execution_count": null,
   "id": "3e36b4fc-e53c-48c0-b3e9-59ad30f5d009",
   "metadata": {},
   "outputs": [],
   "source": [
    "data.to_csv(\"train_data.csv\", index=False)"
   ]
  },
  {
   "cell_type": "code",
   "execution_count": null,
   "id": "8bcf7083-cfe7-47f1-ab5c-2ce23dbb95ba",
   "metadata": {},
   "outputs": [],
   "source": []
  },
  {
   "cell_type": "code",
   "execution_count": null,
   "id": "9806324c-878e-42a6-b172-7d069f4a7f4f",
   "metadata": {},
   "outputs": [],
   "source": [
    "labels_1 = []\n",
    "for i in range(index):\n",
    "    for j in data[\"genre1\"][i]:\n",
    "        if j not in labels_1:\n",
    "            labels_1.append(j)"
   ]
  },
  {
   "cell_type": "code",
   "execution_count": null,
   "id": "d222a924-fff3-4d07-8dcc-9cac73707276",
   "metadata": {},
   "outputs": [],
   "source": [
    "num_1 = len(labels_1)"
   ]
  },
  {
   "cell_type": "code",
   "execution_count": null,
   "id": "7b803aed-9568-4bf1-992a-ac8c6634c3ac",
   "metadata": {},
   "outputs": [],
   "source": [
    "labels_2 = []\n",
    "for i in range(index):\n",
    "    for j in data[\"genre2\"][i]:\n",
    "        if j not in labels_2:\n",
    "            labels_2.append(j)"
   ]
  },
  {
   "cell_type": "code",
   "execution_count": null,
   "id": "c96a8e78-77cb-4e2e-a983-b666e289738f",
   "metadata": {},
   "outputs": [],
   "source": [
    "num_2 = len(labels_2)"
   ]
  },
  {
   "cell_type": "code",
   "execution_count": null,
   "id": "6137c2e0-bc5b-4fb9-88c6-a7764ae43899",
   "metadata": {},
   "outputs": [],
   "source": [
    "labels_3 = []\n",
    "for i in range(index):\n",
    "    for j in data[\"genre3\"][i]:\n",
    "        if j not in labels_3:\n",
    "            labels_3.append(j)"
   ]
  },
  {
   "cell_type": "code",
   "execution_count": null,
   "id": "8c650d71-8322-4427-9b84-3b571338153b",
   "metadata": {},
   "outputs": [],
   "source": [
    "num_3 = len(labels_3)"
   ]
  },
  {
   "cell_type": "code",
   "execution_count": null,
   "id": "d3dfb6be-f3d7-4bb3-b783-9644e3a8f8a5",
   "metadata": {},
   "outputs": [],
   "source": [
    "labels_4 = []\n",
    "for i in range(index):\n",
    "    for j in data[\"genre4\"][i]:\n",
    "        if j not in labels_4:\n",
    "            labels_4.append(j)"
   ]
  },
  {
   "cell_type": "code",
   "execution_count": null,
   "id": "06be48c3-6d75-4176-8e8d-30d284835c86",
   "metadata": {},
   "outputs": [],
   "source": [
    "num_4 = len(labels_4)"
   ]
  },
  {
   "cell_type": "code",
   "execution_count": null,
   "id": "4ca2efa0-1537-4e18-a2e5-6f1874629ba0",
   "metadata": {},
   "outputs": [],
   "source": [
    "num_all = num_1+num_2+num_3+num_4"
   ]
  },
  {
   "cell_type": "code",
   "execution_count": null,
   "id": "064592a1-842f-49c5-ab78-41f223d2b2ee",
   "metadata": {},
   "outputs": [],
   "source": [
    "labels_all = labels_1+labels_2+labels_3+labels_4"
   ]
  },
  {
   "cell_type": "code",
   "execution_count": null,
   "id": "870dfe5e-935a-4526-b876-3b1297aa94e3",
   "metadata": {},
   "outputs": [],
   "source": []
  },
  {
   "cell_type": "code",
   "execution_count": null,
   "id": "07aaa454-a1fe-4f59-b05e-651e640b3f70",
   "metadata": {},
   "outputs": [],
   "source": [
    "path = \"hierarchy.txt\"\n",
    "with open(path, 'r') as f:\n",
    "    lines = f.readlines()"
   ]
  },
  {
   "cell_type": "code",
   "execution_count": null,
   "id": "20407fdf-ff0e-4685-be50-5333b3c938ec",
   "metadata": {},
   "outputs": [],
   "source": [
    "mask = torch.zeros(num_all, 3*num_all)"
   ]
  },
  {
   "cell_type": "code",
   "execution_count": null,
   "id": "ebd00b02-8d4e-4fba-a610-0d8e3efd37c3",
   "metadata": {},
   "outputs": [],
   "source": [
    "# parent-child relations\n",
    "for line in lines[:-2]:\n",
    "    l = line.split(\"\\t\")[0]\n",
    "    r = line.split(\"\\t\")[1].split(\"\\n\")[0]\n",
    "    if l in labels_all and r in labels_all: \n",
    "        mask[labels_all.index(r),labels_all.index(l)] = 1\n",
    "        mask[labels_all.index(l),num_all+labels_all.index(r)] = 1"
   ]
  },
  {
   "cell_type": "code",
   "execution_count": null,
   "id": "e13a9e4a-600f-475c-b051-b7fcfa29ef83",
   "metadata": {},
   "outputs": [],
   "source": [
    "# sibling relations\n",
    "for i in range(num_1,num_all):\n",
    "    parents = np.where(np.array(mask[i, 0:num_all]))[0]\n",
    "    for parent in parents:\n",
    "        siblings = np.where(mask[:,parent])[0]\n",
    "        for sibling in siblings:\n",
    "            mask[i, 2*num_all+sibling] = 1\n",
    "\n",
    "# self-connection for first level\n",
    "for i in range(0, num_1):\n",
    "    mask[i, 2*num_all+i] = 1"
   ]
  },
  {
   "cell_type": "code",
   "execution_count": null,
   "id": "071b4149-7b4e-4a43-b976-5c1c1ec371d2",
   "metadata": {},
   "outputs": [],
   "source": [
    "mask = mask[:,0:num_all] + mask[:,num_all:2*num_all] + mask[:,2*num_all:3*num_all]"
   ]
  },
  {
   "cell_type": "code",
   "execution_count": null,
   "id": "979f42d2-d798-40b7-bde1-83d7e2bde045",
   "metadata": {},
   "outputs": [],
   "source": [
    "torch.save(mask, \"bgc_att_mask.pt\")"
   ]
  },
  {
   "cell_type": "code",
   "execution_count": null,
   "id": "5cb43f38-206d-447c-a3b4-989801c105f7",
   "metadata": {},
   "outputs": [],
   "source": []
  },
  {
   "cell_type": "code",
   "execution_count": null,
   "id": "deb8de2d-023b-468b-8bee-a32f78cce869",
   "metadata": {},
   "outputs": [],
   "source": [
    "data"
   ]
  },
  {
   "cell_type": "code",
   "execution_count": null,
   "id": "c2db9302-0a1b-48f6-b0d8-223d2dd59cbd",
   "metadata": {},
   "outputs": [],
   "source": [
    "tokenizer = BertTokenizer.from_pretrained(\"bert-base-uncased\") # fetch the tokenizer"
   ]
  },
  {
   "cell_type": "code",
   "execution_count": null,
   "id": "9ff4566a-2ada-4528-b1ad-875318d380d7",
   "metadata": {},
   "outputs": [],
   "source": [
    "train_tokens = []\n",
    "for i in tqdm(range(len(data))):\n",
    "    text = data[\"title\"][i] + \" \" + data[\"abstract\"][i]\n",
    "    temp = tokenizer.convert_tokens_to_ids(tokenizer.tokenize(text)[0:100])\n",
    "    train_tokens.append([101]+temp+[102]) # [CLS] at the beginning, [SEP] at the end\n",
    "    \n",
    "max_len = max(len(l) for l in train_tokens)\n",
    "\n",
    "for i,l in enumerate(train_tokens):\n",
    "    train_tokens[i] = l + (max_len-len(l))*[0] # zero-pad to the same length "
   ]
  },
  {
   "cell_type": "code",
   "execution_count": null,
   "id": "2e9b4677-9e9b-4116-b237-940e771ee2f1",
   "metadata": {},
   "outputs": [],
   "source": [
    "torch.save(torch.tensor(train_tokens), \"bgc_train_x.pt\")"
   ]
  },
  {
   "cell_type": "code",
   "execution_count": null,
   "id": "8003f08b-0817-4e4b-a202-e859a7cd3614",
   "metadata": {},
   "outputs": [],
   "source": [
    "train_labels = torch.zeros(len(data), num_all)\n",
    "for i in tqdm(range(len(data))):\n",
    "    labels = data[\"genre1\"][i] + data[\"genre2\"][i] + data[\"genre3\"][i] + data[\"genre4\"][i]\n",
    "    for label in labels: \n",
    "        train_labels[i,labels_all.index(label)] = 1"
   ]
  },
  {
   "cell_type": "code",
   "execution_count": null,
   "id": "f4a0f16d-4b6c-4bb5-aba1-f62d8144a916",
   "metadata": {},
   "outputs": [],
   "source": [
    "torch.save(torch.tensor(train_labels), \"bgc_train_y.pt\")"
   ]
  },
  {
   "cell_type": "code",
   "execution_count": null,
   "id": "d4d7b442-e416-4bab-965f-f740177ca5d4",
   "metadata": {},
   "outputs": [],
   "source": [
    "labels = pd.DataFrame()\n",
    "labels[\"label\"] = labels_all"
   ]
  },
  {
   "cell_type": "code",
   "execution_count": null,
   "id": "2d8f0ce1-b65c-45fd-8d00-5311d5eb6828",
   "metadata": {},
   "outputs": [],
   "source": [
    "labels.to_csv(\"labels.csv\", index=False)"
   ]
  },
  {
   "cell_type": "code",
   "execution_count": null,
   "id": "efc81a73-5e36-4e56-b1b2-56aaa5b4186d",
   "metadata": {},
   "outputs": [],
   "source": []
  },
  {
   "cell_type": "code",
   "execution_count": null,
   "id": "372ac267-2ba5-4d96-9855-89fbf7c0e161",
   "metadata": {},
   "outputs": [],
   "source": [
    "num_1,num_2,num_3,num_4 = 7,46,77,16\n",
    "num_all = num_1+num_2+num_3+num_4"
   ]
  },
  {
   "cell_type": "code",
   "execution_count": null,
   "id": "cc1a8616-c288-4f50-98af-47fde240bfaf",
   "metadata": {},
   "outputs": [],
   "source": [
    "train_labels = torch.load(\"bgc_train_y.pt\")"
   ]
  },
  {
   "cell_type": "code",
   "execution_count": null,
   "id": "be18ba06-3e74-4740-a26c-e5ef72a4dc8b",
   "metadata": {},
   "outputs": [],
   "source": [
    "fre12 = torch.zeros(num_1, num_2)\n",
    "for i in range(num_1):\n",
    "    subset = train_labels[train_labels[:,i]==1]\n",
    "    fre12[i,:] = subset.sum(axis=0)[num_1:(num_1+num_2)]/subset.shape[0]\n",
    "torch.save(fre12, \"bgc_fre12.pt\")"
   ]
  },
  {
   "cell_type": "code",
   "execution_count": null,
   "id": "8d8ec4ab-55f5-4423-a412-8c72b119ee37",
   "metadata": {},
   "outputs": [],
   "source": [
    "fre23 = torch.zeros(num_2, num_3)\n",
    "for i in range(num_2):\n",
    "    subset = train_labels[train_labels[:,num_1+i]==1]\n",
    "    fre23[i,:] = subset.sum(axis=0)[(num_1+num_2):(num_1+num_2+num_3)]/subset.shape[0]\n",
    "torch.save(fre23, \"bgc_fre23.pt\")"
   ]
  },
  {
   "cell_type": "code",
   "execution_count": null,
   "id": "74dad42f-6d22-43c1-9417-d351581b0310",
   "metadata": {},
   "outputs": [],
   "source": [
    "fre34 = torch.zeros(num_3, num_4)\n",
    "for i in range(num_3):\n",
    "    subset = train_labels[train_labels[:,num_1+num_2+i]==1]\n",
    "    fre34[i,:] = subset.sum(axis=0)[(num_1+num_2+num_3):num_all]/subset.shape[0]\n",
    "torch.save(fre23, \"bgc_fre34.pt\")"
   ]
  },
  {
   "cell_type": "code",
   "execution_count": null,
   "id": "2c21241c-3e53-453a-a9f6-c461448dd07c",
   "metadata": {},
   "outputs": [],
   "source": []
  }
 ],
 "metadata": {
  "kernelspec": {
   "display_name": "Python 3 (ipykernel)",
   "language": "python",
   "name": "python3"
  },
  "language_info": {
   "codemirror_mode": {
    "name": "ipython",
    "version": 3
   },
   "file_extension": ".py",
   "mimetype": "text/x-python",
   "name": "python",
   "nbconvert_exporter": "python",
   "pygments_lexer": "ipython3",
   "version": "3.11.5"
  }
 },
 "nbformat": 4,
 "nbformat_minor": 5
}
